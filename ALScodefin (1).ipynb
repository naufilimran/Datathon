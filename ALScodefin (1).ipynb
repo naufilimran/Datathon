{
 "cells": [
  {
   "cell_type": "code",
   "execution_count": 6,
   "id": "80b3268c",
   "metadata": {},
   "outputs": [
    {
     "name": "stdout",
     "output_type": "stream",
     "text": [
      "Requirement already satisfied: pyspark[ml,mllib,sql] in c:\\users\\suhon\\anaconda3\\envs\\pyspark\\lib\\site-packages (3.3.1)\n",
      "Requirement already satisfied: py4j==0.10.9.5 in c:\\users\\suhon\\anaconda3\\envs\\pyspark\\lib\\site-packages (from pyspark[ml,mllib,sql]) (0.10.9.5)\n",
      "Requirement already satisfied: numpy>=1.15 in c:\\users\\suhon\\anaconda3\\envs\\pyspark\\lib\\site-packages (from pyspark[ml,mllib,sql]) (1.22.3)\n",
      "Requirement already satisfied: pandas>=1.0.5 in c:\\users\\suhon\\anaconda3\\envs\\pyspark\\lib\\site-packages (from pyspark[ml,mllib,sql]) (1.4.4)\n",
      "Requirement already satisfied: pyarrow>=1.0.0 in c:\\users\\suhon\\anaconda3\\envs\\pyspark\\lib\\site-packages (from pyspark[ml,mllib,sql]) (8.0.0)\n",
      "Requirement already satisfied: pytz>=2020.1 in c:\\users\\suhon\\anaconda3\\envs\\pyspark\\lib\\site-packages (from pandas>=1.0.5->pyspark[ml,mllib,sql]) (2022.6)\n",
      "Requirement already satisfied: python-dateutil>=2.8.1 in c:\\users\\suhon\\anaconda3\\envs\\pyspark\\lib\\site-packages (from pandas>=1.0.5->pyspark[ml,mllib,sql]) (2.8.2)\n",
      "Requirement already satisfied: six>=1.5 in c:\\users\\suhon\\anaconda3\\envs\\pyspark\\lib\\site-packages (from python-dateutil>=2.8.1->pandas>=1.0.5->pyspark[ml,mllib,sql]) (1.16.0)\n"
     ]
    }
   ],
   "source": [
    "!pip install pyspark[sql,ml,mllib]"
   ]
  },
  {
   "cell_type": "code",
   "execution_count": 7,
   "id": "a01fe74a",
   "metadata": {},
   "outputs": [],
   "source": [
    "!pip install -q findspark"
   ]
  },
  {
   "cell_type": "code",
   "execution_count": 8,
   "id": "9e8b1a8d",
   "metadata": {},
   "outputs": [
    {
     "data": {
      "text/plain": [
       "'C:\\\\Users\\\\suhon\\\\anaconda3\\\\envs\\\\pyspark\\\\lib\\\\site-packages\\\\pyspark'"
      ]
     },
     "execution_count": 8,
     "metadata": {},
     "output_type": "execute_result"
    }
   ],
   "source": [
    "# Import the libary\n",
    "import findspark\n",
    "# Initiate findspark\n",
    "findspark.init()\n",
    "# Check the location for Spark\n",
    "findspark.find()"
   ]
  },
  {
   "cell_type": "code",
   "execution_count": 9,
   "id": "fa4d257d",
   "metadata": {},
   "outputs": [],
   "source": [
    "import pyspark\n",
    "\n",
    "from pyspark.sql import SparkSession\n",
    "\n",
    "# Create a Spark Session\n",
    "\n",
    "spark = SparkSession.builder.config(\"spark.driver.host\", \"localhost\").\\\n",
    "        config(\"spark.driver.memory\", \"16g\").getOrCreate()"
   ]
  },
  {
   "cell_type": "markdown",
   "id": "fd651f58",
   "metadata": {},
   "source": [
    "# Create Dataframe of Desired Data Columns "
   ]
  },
  {
   "cell_type": "code",
   "execution_count": 10,
   "id": "30821201",
   "metadata": {},
   "outputs": [
    {
     "data": {
      "text/html": [
       "<div>\n",
       "<style scoped>\n",
       "    .dataframe tbody tr th:only-of-type {\n",
       "        vertical-align: middle;\n",
       "    }\n",
       "\n",
       "    .dataframe tbody tr th {\n",
       "        vertical-align: top;\n",
       "    }\n",
       "\n",
       "    .dataframe thead th {\n",
       "        text-align: right;\n",
       "    }\n",
       "</style>\n",
       "<table border=\"1\" class=\"dataframe\">\n",
       "  <thead>\n",
       "    <tr style=\"text-align: right;\">\n",
       "      <th></th>\n",
       "      <th>product_id</th>\n",
       "      <th>product_category_name</th>\n",
       "      <th>product_id_index</th>\n",
       "      <th>order_id</th>\n",
       "      <th>customer_id</th>\n",
       "      <th>customer_unique_id</th>\n",
       "      <th>review_score</th>\n",
       "    </tr>\n",
       "  </thead>\n",
       "  <tbody>\n",
       "    <tr>\n",
       "      <th>0</th>\n",
       "      <td>1e9e8ef04dbcff4541ed26657ea517e5</td>\n",
       "      <td>perfumaria</td>\n",
       "      <td>0</td>\n",
       "      <td>e17e4f88e31525f7deef66779844ddce</td>\n",
       "      <td>f8a3e963a310aa58b60a5b1fed5bceb5</td>\n",
       "      <td>b1a1199364a4a7fe27c4486ab63f550d</td>\n",
       "      <td>5</td>\n",
       "    </tr>\n",
       "    <tr>\n",
       "      <th>1</th>\n",
       "      <td>3aa071139cb16b67ca9e5dea641aaa2f</td>\n",
       "      <td>artes</td>\n",
       "      <td>1</td>\n",
       "      <td>5236307716393b7114b53ee991f36956</td>\n",
       "      <td>03fc97548af8f58fefc768d12b546c9c</td>\n",
       "      <td>4b86049cb99e4aa774031daa9cd18f18</td>\n",
       "      <td>5</td>\n",
       "    </tr>\n",
       "    <tr>\n",
       "      <th>2</th>\n",
       "      <td>96bd76ec8810374ed1b65e291975717f</td>\n",
       "      <td>esporte_lazer</td>\n",
       "      <td>2</td>\n",
       "      <td>01f66e58769f84129811d43eefd187fb</td>\n",
       "      <td>e41819d1c95c12c9ce495b630eab8aee</td>\n",
       "      <td>f63805d9c7edb84d92413af34b86a39c</td>\n",
       "      <td>5</td>\n",
       "    </tr>\n",
       "    <tr>\n",
       "      <th>3</th>\n",
       "      <td>cef67bcfe19066a932b7673e239eb23d</td>\n",
       "      <td>bebes</td>\n",
       "      <td>3</td>\n",
       "      <td>143d00a4f2dde4e0364ee1821577adb3</td>\n",
       "      <td>322162b5ca010c2b059cb5224dd818b1</td>\n",
       "      <td>619e926d09b26efbd5180368b1ddc874</td>\n",
       "      <td>1</td>\n",
       "    </tr>\n",
       "    <tr>\n",
       "      <th>4</th>\n",
       "      <td>9dc1a7de274444849c219cff195d0b71</td>\n",
       "      <td>utilidades_domesticas</td>\n",
       "      <td>4</td>\n",
       "      <td>86cafb8794cb99a9b1b77fc8e48fbbbb</td>\n",
       "      <td>c11c31965ff02cc1d7132df8edfcbc22</td>\n",
       "      <td>ad353b4fb0e294adc4eda48af73e68a6</td>\n",
       "      <td>5</td>\n",
       "    </tr>\n",
       "  </tbody>\n",
       "</table>\n",
       "</div>"
      ],
      "text/plain": [
       "                         product_id  product_category_name  product_id_index  \\\n",
       "0  1e9e8ef04dbcff4541ed26657ea517e5             perfumaria                 0   \n",
       "1  3aa071139cb16b67ca9e5dea641aaa2f                  artes                 1   \n",
       "2  96bd76ec8810374ed1b65e291975717f          esporte_lazer                 2   \n",
       "3  cef67bcfe19066a932b7673e239eb23d                  bebes                 3   \n",
       "4  9dc1a7de274444849c219cff195d0b71  utilidades_domesticas                 4   \n",
       "\n",
       "                           order_id                       customer_id  \\\n",
       "0  e17e4f88e31525f7deef66779844ddce  f8a3e963a310aa58b60a5b1fed5bceb5   \n",
       "1  5236307716393b7114b53ee991f36956  03fc97548af8f58fefc768d12b546c9c   \n",
       "2  01f66e58769f84129811d43eefd187fb  e41819d1c95c12c9ce495b630eab8aee   \n",
       "3  143d00a4f2dde4e0364ee1821577adb3  322162b5ca010c2b059cb5224dd818b1   \n",
       "4  86cafb8794cb99a9b1b77fc8e48fbbbb  c11c31965ff02cc1d7132df8edfcbc22   \n",
       "\n",
       "                 customer_unique_id  review_score  \n",
       "0  b1a1199364a4a7fe27c4486ab63f550d             5  \n",
       "1  4b86049cb99e4aa774031daa9cd18f18             5  \n",
       "2  f63805d9c7edb84d92413af34b86a39c             5  \n",
       "3  619e926d09b26efbd5180368b1ddc874             1  \n",
       "4  ad353b4fb0e294adc4eda48af73e68a6             5  "
      ]
     },
     "execution_count": 10,
     "metadata": {},
     "output_type": "execute_result"
    }
   ],
   "source": [
    "import pandas as pd\n",
    "\n",
    "products=pd.read_csv(\"olist_products_dataset.csv\")\n",
    "\n",
    "# add an index for each product ID\n",
    "products['product_id_index']=products.index\n",
    "\n",
    "#drop unwanted columns in datasets\n",
    "products = products.drop([\"product_name_lenght\",\"product_description_lenght\",\"product_photos_qty\",\"product_weight_g\",\"product_length_cm\",\"product_height_cm\",\"product_width_cm\"], axis = 1)\n",
    "order_items = pd.read_csv(\"olist_order_items_dataset.csv\")\n",
    "order_items = order_items.drop([\"order_item_id\",\"seller_id\",\"shipping_limit_date\",\"price\",\"freight_value\"], axis = 1)\n",
    "orders_dataset = pd.read_csv(\"olist_orders_dataset.csv\")\n",
    "orders_dataset = orders_dataset.drop([\"order_status\",\"order_purchase_timestamp\",\"order_approved_at\",\"order_delivered_carrier_date\",\"order_delivered_customer_date\",\"order_estimated_delivery_date\"], axis = 1)\n",
    "\n",
    "customers_dataset = pd.read_csv(\"olist_customers_dataset.csv\")\n",
    "\n",
    "customers_dataset = customers_dataset.drop([\"customer_zip_code_prefix\",\"customer_city\",\"customer_state\",], axis = 1)\n",
    "orders_reviews = pd.read_csv(\"olist_order_reviews_dataset.csv\")\n",
    "orders_reviews = orders_reviews.drop([\"review_id\",\"review_comment_title\",\"review_comment_message\",\"review_creation_date\",\"review_answer_timestamp\"], axis = 1)\n",
    "\n",
    "#merge different datacharts\n",
    "ds = pd.merge(products, order_items, on = 'product_id', how ='inner')\n",
    "ds = pd.merge(ds, orders_dataset, on = 'order_id', how ='inner')\n",
    "ds = pd.merge(ds, customers_dataset, on = 'customer_id', how = 'inner')\n",
    "ds = pd.merge(ds, orders_reviews, on = 'order_id', how = 'inner')\n",
    "\n",
    "ds.head()"
   ]
  },
  {
   "cell_type": "code",
   "execution_count": 11,
   "id": "210dacd6",
   "metadata": {
    "scrolled": true
   },
   "outputs": [
    {
     "data": {
      "text/html": [
       "<div>\n",
       "<style scoped>\n",
       "    .dataframe tbody tr th:only-of-type {\n",
       "        vertical-align: middle;\n",
       "    }\n",
       "\n",
       "    .dataframe tbody tr th {\n",
       "        vertical-align: top;\n",
       "    }\n",
       "\n",
       "    .dataframe thead th {\n",
       "        text-align: right;\n",
       "    }\n",
       "</style>\n",
       "<table border=\"1\" class=\"dataframe\">\n",
       "  <thead>\n",
       "    <tr style=\"text-align: right;\">\n",
       "      <th></th>\n",
       "      <th>customer_unique_id</th>\n",
       "      <th>customer_unique_id_index</th>\n",
       "    </tr>\n",
       "  </thead>\n",
       "  <tbody>\n",
       "    <tr>\n",
       "      <th>0</th>\n",
       "      <td>c8460e4251689ba205045f3ea17884a1</td>\n",
       "      <td>0</td>\n",
       "    </tr>\n",
       "    <tr>\n",
       "      <th>1</th>\n",
       "      <td>d97b3cfb22b0d6b25ac9ed4e9c2d481b</td>\n",
       "      <td>1</td>\n",
       "    </tr>\n",
       "    <tr>\n",
       "      <th>2</th>\n",
       "      <td>4546caea018ad8c692964e3382debd19</td>\n",
       "      <td>2</td>\n",
       "    </tr>\n",
       "    <tr>\n",
       "      <th>3</th>\n",
       "      <td>c402f431464c72e27330a67f7b94d4fb</td>\n",
       "      <td>3</td>\n",
       "    </tr>\n",
       "    <tr>\n",
       "      <th>4</th>\n",
       "      <td>0f5ac8d5c31de21d2f25e24be15bbffb</td>\n",
       "      <td>4</td>\n",
       "    </tr>\n",
       "    <tr>\n",
       "      <th>...</th>\n",
       "      <td>...</td>\n",
       "      <td>...</td>\n",
       "    </tr>\n",
       "    <tr>\n",
       "      <th>94716</th>\n",
       "      <td>2b7a6611fe5722fbb667e1758ccf772b</td>\n",
       "      <td>94716</td>\n",
       "    </tr>\n",
       "    <tr>\n",
       "      <th>94717</th>\n",
       "      <td>7fc2e54bf3d557c5085b650c943d0fef</td>\n",
       "      <td>94717</td>\n",
       "    </tr>\n",
       "    <tr>\n",
       "      <th>94718</th>\n",
       "      <td>d9972a3678b1997f77ce16a51ccc5cc0</td>\n",
       "      <td>94718</td>\n",
       "    </tr>\n",
       "    <tr>\n",
       "      <th>94719</th>\n",
       "      <td>96ce6d85f1fd6f113fa1298a27047f2a</td>\n",
       "      <td>94719</td>\n",
       "    </tr>\n",
       "    <tr>\n",
       "      <th>94720</th>\n",
       "      <td>9aa5a8a2a616d12c8b2473429b1bdd1e</td>\n",
       "      <td>94720</td>\n",
       "    </tr>\n",
       "  </tbody>\n",
       "</table>\n",
       "<p>94721 rows × 2 columns</p>\n",
       "</div>"
      ],
      "text/plain": [
       "                     customer_unique_id  customer_unique_id_index\n",
       "0      c8460e4251689ba205045f3ea17884a1                         0\n",
       "1      d97b3cfb22b0d6b25ac9ed4e9c2d481b                         1\n",
       "2      4546caea018ad8c692964e3382debd19                         2\n",
       "3      c402f431464c72e27330a67f7b94d4fb                         3\n",
       "4      0f5ac8d5c31de21d2f25e24be15bbffb                         4\n",
       "...                                 ...                       ...\n",
       "94716  2b7a6611fe5722fbb667e1758ccf772b                     94716\n",
       "94717  7fc2e54bf3d557c5085b650c943d0fef                     94717\n",
       "94718  d9972a3678b1997f77ce16a51ccc5cc0                     94718\n",
       "94719  96ce6d85f1fd6f113fa1298a27047f2a                     94719\n",
       "94720  9aa5a8a2a616d12c8b2473429b1bdd1e                     94720\n",
       "\n",
       "[94721 rows x 2 columns]"
      ]
     },
     "execution_count": 11,
     "metadata": {},
     "output_type": "execute_result"
    }
   ],
   "source": [
    "# create an unique index for customer unique id\n",
    "\n",
    "customer_id_pd=ds['customer_unique_id'].value_counts().reset_index(name=\"count\").rename(columns={'index':'customer_unique_id'})\n",
    "\n",
    "customer_id_pd['customer_unique_id_index']=customer_id_pd.index\n",
    "\n",
    "customer_id_pd1=customer_id_pd.drop(['count'], axis=1)\n",
    "\n",
    "customer_id_pd1"
   ]
  },
  {
   "cell_type": "code",
   "execution_count": 12,
   "id": "a791f517",
   "metadata": {
    "scrolled": true
   },
   "outputs": [
    {
     "data": {
      "text/html": [
       "<div>\n",
       "<style scoped>\n",
       "    .dataframe tbody tr th:only-of-type {\n",
       "        vertical-align: middle;\n",
       "    }\n",
       "\n",
       "    .dataframe tbody tr th {\n",
       "        vertical-align: top;\n",
       "    }\n",
       "\n",
       "    .dataframe thead th {\n",
       "        text-align: right;\n",
       "    }\n",
       "</style>\n",
       "<table border=\"1\" class=\"dataframe\">\n",
       "  <thead>\n",
       "    <tr style=\"text-align: right;\">\n",
       "      <th></th>\n",
       "      <th>product_id</th>\n",
       "      <th>product_category_name</th>\n",
       "      <th>product_id_index</th>\n",
       "      <th>order_id</th>\n",
       "      <th>customer_id</th>\n",
       "      <th>customer_unique_id</th>\n",
       "      <th>review_score</th>\n",
       "      <th>customer_unique_id_index</th>\n",
       "    </tr>\n",
       "  </thead>\n",
       "  <tbody>\n",
       "    <tr>\n",
       "      <th>0</th>\n",
       "      <td>1e9e8ef04dbcff4541ed26657ea517e5</td>\n",
       "      <td>perfumaria</td>\n",
       "      <td>0</td>\n",
       "      <td>e17e4f88e31525f7deef66779844ddce</td>\n",
       "      <td>f8a3e963a310aa58b60a5b1fed5bceb5</td>\n",
       "      <td>b1a1199364a4a7fe27c4486ab63f550d</td>\n",
       "      <td>5</td>\n",
       "      <td>18226</td>\n",
       "    </tr>\n",
       "    <tr>\n",
       "      <th>1</th>\n",
       "      <td>3aa071139cb16b67ca9e5dea641aaa2f</td>\n",
       "      <td>artes</td>\n",
       "      <td>1</td>\n",
       "      <td>5236307716393b7114b53ee991f36956</td>\n",
       "      <td>03fc97548af8f58fefc768d12b546c9c</td>\n",
       "      <td>4b86049cb99e4aa774031daa9cd18f18</td>\n",
       "      <td>5</td>\n",
       "      <td>82684</td>\n",
       "    </tr>\n",
       "    <tr>\n",
       "      <th>2</th>\n",
       "      <td>96bd76ec8810374ed1b65e291975717f</td>\n",
       "      <td>esporte_lazer</td>\n",
       "      <td>2</td>\n",
       "      <td>01f66e58769f84129811d43eefd187fb</td>\n",
       "      <td>e41819d1c95c12c9ce495b630eab8aee</td>\n",
       "      <td>f63805d9c7edb84d92413af34b86a39c</td>\n",
       "      <td>5</td>\n",
       "      <td>65693</td>\n",
       "    </tr>\n",
       "    <tr>\n",
       "      <th>3</th>\n",
       "      <td>cef67bcfe19066a932b7673e239eb23d</td>\n",
       "      <td>bebes</td>\n",
       "      <td>3</td>\n",
       "      <td>143d00a4f2dde4e0364ee1821577adb3</td>\n",
       "      <td>322162b5ca010c2b059cb5224dd818b1</td>\n",
       "      <td>619e926d09b26efbd5180368b1ddc874</td>\n",
       "      <td>1</td>\n",
       "      <td>65692</td>\n",
       "    </tr>\n",
       "    <tr>\n",
       "      <th>4</th>\n",
       "      <td>9dc1a7de274444849c219cff195d0b71</td>\n",
       "      <td>utilidades_domesticas</td>\n",
       "      <td>4</td>\n",
       "      <td>86cafb8794cb99a9b1b77fc8e48fbbbb</td>\n",
       "      <td>c11c31965ff02cc1d7132df8edfcbc22</td>\n",
       "      <td>ad353b4fb0e294adc4eda48af73e68a6</td>\n",
       "      <td>5</td>\n",
       "      <td>65691</td>\n",
       "    </tr>\n",
       "    <tr>\n",
       "      <th>...</th>\n",
       "      <td>...</td>\n",
       "      <td>...</td>\n",
       "      <td>...</td>\n",
       "      <td>...</td>\n",
       "      <td>...</td>\n",
       "      <td>...</td>\n",
       "      <td>...</td>\n",
       "      <td>...</td>\n",
       "    </tr>\n",
       "    <tr>\n",
       "      <th>112367</th>\n",
       "      <td>83808703fc0706a22e264b9d75f04a2e</td>\n",
       "      <td>informatica_acessorios</td>\n",
       "      <td>32949</td>\n",
       "      <td>59e88b7d3675e89aceaf86f372d3bc9a</td>\n",
       "      <td>e750210dde7e68dbd5194c0809e97f7e</td>\n",
       "      <td>4d1bbadcfd9bdc738e54599627870319</td>\n",
       "      <td>4</td>\n",
       "      <td>8942</td>\n",
       "    </tr>\n",
       "    <tr>\n",
       "      <th>112368</th>\n",
       "      <td>83808703fc0706a22e264b9d75f04a2e</td>\n",
       "      <td>informatica_acessorios</td>\n",
       "      <td>32949</td>\n",
       "      <td>6e4465d771f02e4fe335225de3c6c043</td>\n",
       "      <td>0f139d1b208a62a37671423e5eff5016</td>\n",
       "      <td>2cc893f1618b7317170ba2456cf76117</td>\n",
       "      <td>5</td>\n",
       "      <td>2991</td>\n",
       "    </tr>\n",
       "    <tr>\n",
       "      <th>112369</th>\n",
       "      <td>83808703fc0706a22e264b9d75f04a2e</td>\n",
       "      <td>informatica_acessorios</td>\n",
       "      <td>32949</td>\n",
       "      <td>6e4465d771f02e4fe335225de3c6c043</td>\n",
       "      <td>0f139d1b208a62a37671423e5eff5016</td>\n",
       "      <td>2cc893f1618b7317170ba2456cf76117</td>\n",
       "      <td>5</td>\n",
       "      <td>2991</td>\n",
       "    </tr>\n",
       "    <tr>\n",
       "      <th>112370</th>\n",
       "      <td>83808703fc0706a22e264b9d75f04a2e</td>\n",
       "      <td>informatica_acessorios</td>\n",
       "      <td>32949</td>\n",
       "      <td>6e4465d771f02e4fe335225de3c6c043</td>\n",
       "      <td>0f139d1b208a62a37671423e5eff5016</td>\n",
       "      <td>2cc893f1618b7317170ba2456cf76117</td>\n",
       "      <td>5</td>\n",
       "      <td>2991</td>\n",
       "    </tr>\n",
       "    <tr>\n",
       "      <th>112371</th>\n",
       "      <td>106392145fca363410d287a815be6de4</td>\n",
       "      <td>cama_mesa_banho</td>\n",
       "      <td>32950</td>\n",
       "      <td>f3a47ba087f05d39a74ed1b653f0be1b</td>\n",
       "      <td>b7fbfcea57659b5d18c20c95db45e908</td>\n",
       "      <td>9aa5a8a2a616d12c8b2473429b1bdd1e</td>\n",
       "      <td>5</td>\n",
       "      <td>94720</td>\n",
       "    </tr>\n",
       "  </tbody>\n",
       "</table>\n",
       "<p>112372 rows × 8 columns</p>\n",
       "</div>"
      ],
      "text/plain": [
       "                              product_id   product_category_name  \\\n",
       "0       1e9e8ef04dbcff4541ed26657ea517e5              perfumaria   \n",
       "1       3aa071139cb16b67ca9e5dea641aaa2f                   artes   \n",
       "2       96bd76ec8810374ed1b65e291975717f           esporte_lazer   \n",
       "3       cef67bcfe19066a932b7673e239eb23d                   bebes   \n",
       "4       9dc1a7de274444849c219cff195d0b71   utilidades_domesticas   \n",
       "...                                  ...                     ...   \n",
       "112367  83808703fc0706a22e264b9d75f04a2e  informatica_acessorios   \n",
       "112368  83808703fc0706a22e264b9d75f04a2e  informatica_acessorios   \n",
       "112369  83808703fc0706a22e264b9d75f04a2e  informatica_acessorios   \n",
       "112370  83808703fc0706a22e264b9d75f04a2e  informatica_acessorios   \n",
       "112371  106392145fca363410d287a815be6de4         cama_mesa_banho   \n",
       "\n",
       "        product_id_index                          order_id  \\\n",
       "0                      0  e17e4f88e31525f7deef66779844ddce   \n",
       "1                      1  5236307716393b7114b53ee991f36956   \n",
       "2                      2  01f66e58769f84129811d43eefd187fb   \n",
       "3                      3  143d00a4f2dde4e0364ee1821577adb3   \n",
       "4                      4  86cafb8794cb99a9b1b77fc8e48fbbbb   \n",
       "...                  ...                               ...   \n",
       "112367             32949  59e88b7d3675e89aceaf86f372d3bc9a   \n",
       "112368             32949  6e4465d771f02e4fe335225de3c6c043   \n",
       "112369             32949  6e4465d771f02e4fe335225de3c6c043   \n",
       "112370             32949  6e4465d771f02e4fe335225de3c6c043   \n",
       "112371             32950  f3a47ba087f05d39a74ed1b653f0be1b   \n",
       "\n",
       "                             customer_id                customer_unique_id  \\\n",
       "0       f8a3e963a310aa58b60a5b1fed5bceb5  b1a1199364a4a7fe27c4486ab63f550d   \n",
       "1       03fc97548af8f58fefc768d12b546c9c  4b86049cb99e4aa774031daa9cd18f18   \n",
       "2       e41819d1c95c12c9ce495b630eab8aee  f63805d9c7edb84d92413af34b86a39c   \n",
       "3       322162b5ca010c2b059cb5224dd818b1  619e926d09b26efbd5180368b1ddc874   \n",
       "4       c11c31965ff02cc1d7132df8edfcbc22  ad353b4fb0e294adc4eda48af73e68a6   \n",
       "...                                  ...                               ...   \n",
       "112367  e750210dde7e68dbd5194c0809e97f7e  4d1bbadcfd9bdc738e54599627870319   \n",
       "112368  0f139d1b208a62a37671423e5eff5016  2cc893f1618b7317170ba2456cf76117   \n",
       "112369  0f139d1b208a62a37671423e5eff5016  2cc893f1618b7317170ba2456cf76117   \n",
       "112370  0f139d1b208a62a37671423e5eff5016  2cc893f1618b7317170ba2456cf76117   \n",
       "112371  b7fbfcea57659b5d18c20c95db45e908  9aa5a8a2a616d12c8b2473429b1bdd1e   \n",
       "\n",
       "        review_score  customer_unique_id_index  \n",
       "0                  5                     18226  \n",
       "1                  5                     82684  \n",
       "2                  5                     65693  \n",
       "3                  1                     65692  \n",
       "4                  5                     65691  \n",
       "...              ...                       ...  \n",
       "112367             4                      8942  \n",
       "112368             5                      2991  \n",
       "112369             5                      2991  \n",
       "112370             5                      2991  \n",
       "112371             5                     94720  \n",
       "\n",
       "[112372 rows x 8 columns]"
      ]
     },
     "execution_count": 12,
     "metadata": {},
     "output_type": "execute_result"
    }
   ],
   "source": [
    "ds1 = pd.merge(ds, customer_id_pd1, on = 'customer_unique_id', how ='inner')\n",
    "\n",
    "ds1"
   ]
  },
  {
   "cell_type": "code",
   "execution_count": 13,
   "id": "294e70e5",
   "metadata": {},
   "outputs": [
    {
     "data": {
      "text/plain": [
       "5    63525\n",
       "4    21315\n",
       "1    14235\n",
       "3     9423\n",
       "2     3874\n",
       "Name: review_score, dtype: int64"
      ]
     },
     "execution_count": 13,
     "metadata": {},
     "output_type": "execute_result"
    }
   ],
   "source": [
    "ds1['review_score'].value_counts()"
   ]
  },
  {
   "cell_type": "code",
   "execution_count": 14,
   "id": "c91b3fbb",
   "metadata": {},
   "outputs": [
    {
     "data": {
      "text/plain": [
       "product_id                     0\n",
       "product_category_name       1598\n",
       "product_id_index               0\n",
       "order_id                       0\n",
       "customer_id                    0\n",
       "customer_unique_id             0\n",
       "review_score                   0\n",
       "customer_unique_id_index       0\n",
       "dtype: int64"
      ]
     },
     "execution_count": 14,
     "metadata": {},
     "output_type": "execute_result"
    }
   ],
   "source": [
    "ds1.isnull().sum()"
   ]
  },
  {
   "cell_type": "code",
   "execution_count": 15,
   "id": "bdaa0125",
   "metadata": {},
   "outputs": [
    {
     "data": {
      "text/plain": [
       "product_id                  0\n",
       "product_category_name       0\n",
       "product_id_index            0\n",
       "order_id                    0\n",
       "customer_id                 0\n",
       "customer_unique_id          0\n",
       "review_score                0\n",
       "customer_unique_id_index    0\n",
       "dtype: int64"
      ]
     },
     "execution_count": 15,
     "metadata": {},
     "output_type": "execute_result"
    }
   ],
   "source": [
    "# drop row where product category name is null\n",
    "\n",
    "ds2=ds1.dropna()\n",
    "\n",
    "ds2.isnull().sum()"
   ]
  },
  {
   "cell_type": "code",
   "execution_count": 16,
   "id": "bb70f003",
   "metadata": {
    "scrolled": true
   },
   "outputs": [
    {
     "name": "stdout",
     "output_type": "stream",
     "text": [
      "+--------------------+---------------------+----------------+--------------------+--------------------+--------------------+------------+------------------------+\n",
      "|          product_id|product_category_name|product_id_index|            order_id|         customer_id|  customer_unique_id|review_score|customer_unique_id_index|\n",
      "+--------------------+---------------------+----------------+--------------------+--------------------+--------------------+------------+------------------------+\n",
      "|1e9e8ef04dbcff454...|           perfumaria|               0|e17e4f88e31525f7d...|f8a3e963a310aa58b...|b1a1199364a4a7fe2...|           5|                   18226|\n",
      "|3aa071139cb16b67c...|                artes|               1|5236307716393b711...|03fc97548af8f58fe...|4b86049cb99e4aa77...|           5|                   82684|\n",
      "|96bd76ec8810374ed...|        esporte_lazer|               2|01f66e58769f84129...|e41819d1c95c12c9c...|f63805d9c7edb84d9...|           5|                   65693|\n",
      "|cef67bcfe19066a93...|                bebes|               3|143d00a4f2dde4e03...|322162b5ca010c2b0...|619e926d09b26efbd...|           1|                   65692|\n",
      "|9dc1a7de274444849...| utilidades_domest...|               4|86cafb8794cb99a9b...|c11c31965ff02cc1d...|ad353b4fb0e294adc...|           5|                   65691|\n",
      "|41d3672d4792049fa...| instrumentos_musi...|               5|c214058828b43a44f...|3f3a10ec410c8efb0...|8b28d6ec6f6a91243...|           5|                   65690|\n",
      "|732bd381ad09e530f...|           cool_stuff|               6|9632facd8bd95315d...|7e395b4bf53aea8c5...|f7495a8d48d05ca65...|           2|                   65689|\n",
      "|732bd381ad09e530f...|           cool_stuff|               6|c6343db6c1801f9c3...|30f840412466fa26e...|3256bccea9c8aa521...|           5|                   65688|\n",
      "|2548af3e6e77a690c...|     moveis_decoracao|               7|6ecf7023e8dd4ec8b...|181e2217f874cb539...|8fe54925e8ff1067c...|           2|                    1315|\n",
      "|2548af3e6e77a690c...|     moveis_decoracao|               7|6ecf7023e8dd4ec8b...|181e2217f874cb539...|8fe54925e8ff1067c...|           2|                    1315|\n",
      "|140a8324a66db81d2...|     moveis_decoracao|           14281|6ecf7023e8dd4ec8b...|181e2217f874cb539...|8fe54925e8ff1067c...|           2|                    1315|\n",
      "|140a8324a66db81d2...|     moveis_decoracao|           14281|6ecf7023e8dd4ec8b...|181e2217f874cb539...|8fe54925e8ff1067c...|           2|                    1315|\n",
      "|2548af3e6e77a690c...|     moveis_decoracao|               7|8ac5b235603eee2e2...|2ea5983ec2edde5dc...|1dedbe50138a3540d...|           2|                     605|\n",
      "|2548af3e6e77a690c...|     moveis_decoracao|               7|8ac5b235603eee2e2...|2ea5983ec2edde5dc...|1dedbe50138a3540d...|           2|                     605|\n",
      "|5aad359a63cbb4fc3...|     moveis_decoracao|           23934|8ac5b235603eee2e2...|2ea5983ec2edde5dc...|1dedbe50138a3540d...|           2|                     605|\n",
      "|5aad359a63cbb4fc3...|     moveis_decoracao|           23934|8ac5b235603eee2e2...|2ea5983ec2edde5dc...|1dedbe50138a3540d...|           2|                     605|\n",
      "|af35be35db4ad0dc2...|     moveis_decoracao|           24599|8ac5b235603eee2e2...|2ea5983ec2edde5dc...|1dedbe50138a3540d...|           2|                     605|\n",
      "|2548af3e6e77a690c...|     moveis_decoracao|               7|c5874d438cf199ea7...|014fb09b34197c57a...|6b2766da6482d51ff...|           1|                     606|\n",
      "|2548af3e6e77a690c...|     moveis_decoracao|               7|c5874d438cf199ea7...|014fb09b34197c57a...|6b2766da6482d51ff...|           1|                     606|\n",
      "|2548af3e6e77a690c...|     moveis_decoracao|               7|c5874d438cf199ea7...|014fb09b34197c57a...|6b2766da6482d51ff...|           1|                     606|\n",
      "+--------------------+---------------------+----------------+--------------------+--------------------+--------------------+------------+------------------------+\n",
      "only showing top 20 rows\n",
      "\n"
     ]
    }
   ],
   "source": [
    "# cannot convert a pandas datafram to pyspark if there is null value\n",
    "\n",
    "psdf = spark.createDataFrame(ds2)\n",
    "psdf.show()"
   ]
  },
  {
   "cell_type": "markdown",
   "id": "e369f61c",
   "metadata": {},
   "source": [
    "# Create and Train 1st Model"
   ]
  },
  {
   "cell_type": "code",
   "execution_count": 17,
   "id": "4d36f27b",
   "metadata": {},
   "outputs": [],
   "source": [
    "#import library for ALS algorithm\n",
    "from pyspark.ml.evaluation import RegressionEvaluator\n",
    " \n",
    "from pyspark.ml.recommendation import ALS\n",
    "\n",
    "(training, test) = psdf.randomSplit([0.8, 0.2])\n",
    "\n",
    "#set up ALS algorithm\n",
    "als = ALS(maxIter=5, regParam=0.01, userCol=\"customer_unique_id_index\", itemCol=\"product_id_index\", ratingCol=\"review_score\",\n",
    "          coldStartStrategy=\"drop\")\n",
    "\n",
    "model = als.fit(training)"
   ]
  },
  {
   "cell_type": "code",
   "execution_count": 18,
   "id": "59a95f16",
   "metadata": {},
   "outputs": [
    {
     "name": "stdout",
     "output_type": "stream",
     "text": [
      "rmse for the model:  2.3057677916538815\n"
     ]
    }
   ],
   "source": [
    "# evaluate predictions\n",
    "\n",
    "predictions=model.transform(test)\n",
    "\n",
    "evaluator = RegressionEvaluator(\n",
    "           metricName=\"rmse\", \n",
    "           labelCol=\"review_score\", \n",
    "           predictionCol=\"prediction\")\n",
    "\n",
    "rmse=evaluator.evaluate(predictions)\n",
    "\n",
    "print(\"rmse for the model: \", rmse) # it means that the average prediction error is 2.3 above or below the review score."
   ]
  },
  {
   "cell_type": "markdown",
   "id": "3206553a",
   "metadata": {},
   "source": [
    "## Improving model using hyperparameter tuning and cross-validation"
   ]
  },
  {
   "cell_type": "code",
   "execution_count": 19,
   "id": "17b33f09",
   "metadata": {},
   "outputs": [
    {
     "name": "stdout",
     "output_type": "stream",
     "text": [
      "Num models to be tested:  16\n"
     ]
    }
   ],
   "source": [
    "# Hyperparameter tuning and cross-validation\n",
    "\n",
    "from pyspark.ml.tuning import ParamGridBuilder, CrossValidator\n",
    "from pyspark.ml.evaluation import RegressionEvaluator\n",
    "\n",
    "# Add hyperparameters and their respective values to param_grid\n",
    "param_grid = ParamGridBuilder() \\\n",
    "            .addGrid(als.rank, [10, 50, 100, 150]) \\\n",
    "            .addGrid(als.regParam, [.01, .05, .1, .15]) \\\n",
    "            .build()\n",
    "\n",
    "# Define evaluator as RMSE and print length of evaluator\n",
    "evaluator = RegressionEvaluator(\n",
    "           metricName=\"rmse\", \n",
    "           labelCol=\"review_score\", \n",
    "           predictionCol=\"prediction\") \n",
    "\n",
    "print (\"Num models to be tested: \", len(param_grid))\n",
    "\n",
    "# Build cross validation using CrossValidator\n",
    "\n",
    "cv = CrossValidator(estimator=als, estimatorParamMaps=param_grid, evaluator=evaluator, numFolds=5)"
   ]
  },
  {
   "cell_type": "code",
   "execution_count": 181,
   "id": "525210a9",
   "metadata": {},
   "outputs": [
    {
     "name": "stdout",
     "output_type": "stream",
     "text": [
      "2.0786688703798344\n"
     ]
    }
   ],
   "source": [
    "# Training 16 models (TAKES FEW HOURS)\n",
    "\n",
    "#Fit cross validator to the 'train' dataset\n",
    "model = cv.fit(training)\n",
    "\n",
    "#Extract best model from the cv model above\n",
    "best_model = model.bestModel\n",
    "\n",
    "# View the predictions\n",
    "test_predictions = best_model.transform(test)\n",
    "RMSE = evaluator.evaluate(test_predictions)\n",
    "\n",
    "print(RMSE) # the model has improved after runing cross validation and hyperparameter tunning"
   ]
  },
  {
   "cell_type": "code",
   "execution_count": 182,
   "id": "649f1924",
   "metadata": {
    "scrolled": true
   },
   "outputs": [
    {
     "name": "stdout",
     "output_type": "stream",
     "text": [
      "**Best Model**\n",
      "  Rank: 150\n",
      "  MaxIter: 5\n",
      "  RegParam: 0.15\n"
     ]
    }
   ],
   "source": [
    "print(\"**Best Model**\")\n",
    "# Print \"Rank\"\n",
    "print(\"  Rank:\", best_model._java_obj.parent().getRank())\n",
    "# Print \"MaxIter\"\n",
    "print(\"  MaxIter:\", best_model._java_obj.parent().getMaxIter())\n",
    "# Print \"RegParam\"\n",
    "print(\"  RegParam:\", best_model._java_obj.parent().getRegParam())"
   ]
  },
  {
   "cell_type": "markdown",
   "id": "f03a4590",
   "metadata": {},
   "source": [
    "# using the above hyperparameter to run the model again"
   ]
  },
  {
   "cell_type": "code",
   "execution_count": 20,
   "id": "7926b9ed",
   "metadata": {},
   "outputs": [],
   "source": [
    "from pyspark.ml.evaluation import RegressionEvaluator\n",
    " \n",
    "from pyspark.ml.recommendation import ALS\n",
    "\n",
    "(training, test) = psdf.randomSplit([0.8, 0.2])\n",
    "\n",
    "als = ALS(maxIter=5, regParam=0.15, rank=150, userCol=\"customer_unique_id_index\", itemCol=\"product_id_index\", ratingCol=\"review_score\",\n",
    "          coldStartStrategy=\"drop\")\n",
    "\n",
    "model = als.fit(training)"
   ]
  },
  {
   "cell_type": "code",
   "execution_count": 21,
   "id": "f8f3de0d",
   "metadata": {
    "scrolled": true
   },
   "outputs": [
    {
     "name": "stdout",
     "output_type": "stream",
     "text": [
      "rmse for the model:  2.1204150538319357\n"
     ]
    }
   ],
   "source": [
    "predictions=model.transform(test)\n",
    "\n",
    "evaluator = RegressionEvaluator(\n",
    "           metricName=\"rmse\", \n",
    "           labelCol=\"review_score\", \n",
    "           predictionCol=\"prediction\")\n",
    "\n",
    "rmse=evaluator.evaluate(predictions)\n",
    "\n",
    "print(\"rmse for the model: \", rmse) # it means that the average prediction error is 2.09 above or below the review score."
   ]
  },
  {
   "cell_type": "markdown",
   "id": "73a91ac4",
   "metadata": {},
   "source": [
    "## Generate n recommendations for all customers"
   ]
  },
  {
   "cell_type": "code",
   "execution_count": 22,
   "id": "2690d338",
   "metadata": {
    "scrolled": true
   },
   "outputs": [
    {
     "name": "stdout",
     "output_type": "stream",
     "text": [
      "+------------------------+--------------------+\n",
      "|customer_unique_id_index|     recommendations|\n",
      "+------------------------+--------------------+\n",
      "|                      31|[{27539, 3.931027...|\n",
      "|                      34|[{28675, 4.974535...|\n",
      "|                      53|[{7345, 1.4270169...|\n",
      "|                      65|[{960, 4.9408255}...|\n",
      "|                      78|[{25473, 1.011703...|\n",
      "|                      85|[{27765, 2.939042...|\n",
      "|                     108|[{6965, 4.92919},...|\n",
      "|                     133|[{32836, 4.924059...|\n",
      "|                     137|[{19357, 3.913703...|\n",
      "|                     148|[{30115, 4.928243...|\n",
      "|                     155|[{1575, 3.9415877...|\n",
      "|                     193|[{22336, 1.045303...|\n",
      "|                     211|[{30304, 4.921156...|\n",
      "|                     243|[{17127, 0.995686...|\n",
      "|                     251|[{21415, 4.937418...|\n",
      "|                     255|[{4378, 4.933041}...|\n",
      "|                     296|[{2209, 4.9282427...|\n",
      "|                     321|[{27602, 4.928241...|\n",
      "|                     322|[{5045, 4.905352}...|\n",
      "|                     362|[{32098, 4.796395...|\n",
      "+------------------------+--------------------+\n",
      "only showing top 20 rows\n",
      "\n"
     ]
    }
   ],
   "source": [
    "recommendations=model.recommendForAllUsers(5)\n",
    "\n",
    "recommendations.show()"
   ]
  },
  {
   "cell_type": "code",
   "execution_count": 23,
   "id": "3180868b",
   "metadata": {
    "scrolled": true
   },
   "outputs": [
    {
     "name": "stdout",
     "output_type": "stream",
     "text": [
      "+------------------------+----------------+---------+\n",
      "|customer_unique_id_index|product_id_index|   rating|\n",
      "+------------------------+----------------+---------+\n",
      "|                      31|           27539|3.9310272|\n",
      "|                      31|            8322|1.7417027|\n",
      "|                      31|           32156|1.4154928|\n",
      "|                      31|           23394|1.3439854|\n",
      "|                      31|           20952|1.3177129|\n",
      "|                      34|           28675|4.9745355|\n",
      "|                      34|           15505|4.9616876|\n",
      "|                      34|            3129| 4.842282|\n",
      "|                      34|            8340|3.8301466|\n",
      "|                      34|           16893|1.6985462|\n",
      "|                      53|            7345|1.4270169|\n",
      "|                      53|           14051|  1.42218|\n",
      "|                      53|            4598| 1.364977|\n",
      "|                      53|           18549|1.2983416|\n",
      "|                      53|           22672|1.2795619|\n",
      "|                      65|             960|4.9408255|\n",
      "|                      65|           30399| 4.901795|\n",
      "|                      65|           32906|4.8725185|\n",
      "|                      65|           23975|3.9243407|\n",
      "|                      65|            4401|1.4159606|\n",
      "+------------------------+----------------+---------+\n",
      "only showing top 20 rows\n",
      "\n"
     ]
    }
   ],
   "source": [
    "allCustomer_recommendations = recommendations\\\n",
    "    .withColumn(\"rec_exp\", explode(\"recommendations\"))\\\n",
    "    .select('customer_unique_id_index', col(\"rec_exp.product_id_index\"), col(\"rec_exp.rating\"))\n",
    "\n",
    "allCustomer_recommendations.show()"
   ]
  },
  {
   "cell_type": "code",
   "execution_count": 25,
   "id": "5aa3cf48",
   "metadata": {
    "scrolled": true
   },
   "outputs": [
    {
     "name": "stdout",
     "output_type": "stream",
     "text": [
      "+----------------+---------------------+\n",
      "|product_id_index|product_category_name|\n",
      "+----------------+---------------------+\n",
      "|              88|     moveis_decoracao|\n",
      "|             126|        esporte_lazer|\n",
      "|           13047|            papelaria|\n",
      "|           23440|        esporte_lazer|\n",
      "|            1221|           cool_stuff|\n",
      "|             391|      cama_mesa_banho|\n",
      "|             479| fashion_bolsas_e_...|\n",
      "|             510| sinalizacao_e_seg...|\n",
      "|             562|         beleza_saude|\n",
      "|             712| utilidades_domest...|\n",
      "|             772|        esporte_lazer|\n",
      "|            1261|            papelaria|\n",
      "|            1340|      cama_mesa_banho|\n",
      "|            1423|         beleza_saude|\n",
      "|           13905|             pet_shop|\n",
      "|             293| construcao_ferram...|\n",
      "|             603|           cool_stuff|\n",
      "|             835|           perfumaria|\n",
      "|             908|           perfumaria|\n",
      "|            1234| informatica_acess...|\n",
      "+----------------+---------------------+\n",
      "only showing top 20 rows\n",
      "\n"
     ]
    }
   ],
   "source": [
    "psdf1=psdf.select('product_id_index','product_category_name').distinct()\n",
    "\n",
    "psdf1.show()"
   ]
  },
  {
   "cell_type": "code",
   "execution_count": 26,
   "id": "e18308ab",
   "metadata": {},
   "outputs": [
    {
     "name": "stdout",
     "output_type": "stream",
     "text": [
      "+----------------+------------------------+----------+----------------------+\n",
      "|product_id_index|customer_unique_id_index|rating    |product_category_name |\n",
      "+----------------+------------------------+----------+----------------------+\n",
      "|11534           |94719                   |2.9594886 |relogios_presentes    |\n",
      "|9671            |94719                   |2.2668178 |cool_stuff            |\n",
      "|24622           |94719                   |0.93350506|moveis_decoracao      |\n",
      "|7772            |94719                   |0.8953066 |brinquedos            |\n",
      "|24385           |94719                   |0.8696679 |perfumaria            |\n",
      "|11534           |94718                   |3.945986  |relogios_presentes    |\n",
      "|9671            |94718                   |3.0224242 |cool_stuff            |\n",
      "|24622           |94718                   |1.2446734 |moveis_decoracao      |\n",
      "|7772            |94718                   |1.1937417 |brinquedos            |\n",
      "|24385           |94718                   |1.1595571 |perfumaria            |\n",
      "|11535           |94716                   |4.928243  |ferramentas_jardim    |\n",
      "|26702           |94716                   |1.6263323 |perfumaria            |\n",
      "|29800           |94716                   |1.514063  |informatica_acessorios|\n",
      "|6708            |94716                   |1.4940543 |papelaria             |\n",
      "|3921            |94716                   |1.4780948 |beleza_saude          |\n",
      "|11657           |94715                   |0.8791821 |cool_stuff            |\n",
      "|13053           |94715                   |0.8663448 |relogios_presentes    |\n",
      "|22844           |94715                   |0.8607145 |perfumaria            |\n",
      "|23850           |94715                   |0.8598076 |utilidades_domesticas |\n",
      "|21442           |94715                   |0.85940033|esporte_lazer         |\n",
      "+----------------+------------------------+----------+----------------------+\n",
      "only showing top 20 rows\n",
      "\n"
     ]
    }
   ],
   "source": [
    "allcustomers_results=allCustomer_recommendations.join(psdf1, 'product_id_index', 'inner').sort('customer_unique_id_index', 'rating', ascending=False)\n",
    "\n",
    "allcustomers_results.show(truncate=False)"
   ]
  },
  {
   "cell_type": "code",
   "execution_count": null,
   "id": "9217751e",
   "metadata": {},
   "outputs": [],
   "source": [
    "# write the results to a csv file\n",
    "\n",
    "\n",
    "allcustomers_results_pd=allcustomers_results.toPandas()\n",
    "allcustomers_results_pd = allcustomres_results_pd.sort('customer_unique_id_index', 'rating', ascending=False)\n",
    "\n",
    "allcustomers_results_pd.to_csv('all_customer_top5recommendations.csv', index=False)"
   ]
  },
  {
   "cell_type": "markdown",
   "id": "d9907dd9",
   "metadata": {},
   "source": [
    "# Generate n recommendations for selected customers"
   ]
  },
  {
   "cell_type": "code",
   "execution_count": 43,
   "id": "9e3dd0ea",
   "metadata": {},
   "outputs": [
    {
     "name": "stdout",
     "output_type": "stream",
     "text": [
      "+------------------------+-----------------------------------------------------------------------------------------------------+\n",
      "|customer_unique_id_index|recommendations                                                                                      |\n",
      "+------------------------+-----------------------------------------------------------------------------------------------------+\n",
      "|1                       |[{18044, 0.993787}, {14912, 0.9834209}, {25905, 0.98282266}, {29768, 0.9331304}, {18982, 0.91034955}]|\n",
      "|2                       |[{18053, 0.98274815}, {998, 0.92313194}, {7461, 0.8511715}, {16218, 0.84914976}, {2742, 0.84914976}] |\n",
      "|0                       |[{15672, 3.9061022}, {20357, 1.55108}, {16927, 1.5503998}, {8119, 1.4228102}, {10617, 1.4222896}]    |\n",
      "+------------------------+-----------------------------------------------------------------------------------------------------+\n",
      "\n"
     ]
    }
   ],
   "source": [
    "# provide id of a customer or a list of customer ID\n",
    "\n",
    "customer_ids=[0, 1, 2]\n",
    "\n",
    "selectedCustomers=psdf.filter(col('customer_unique_id_index').isin(customer_ids)).select('customer_unique_id_index')\n",
    "\n",
    "top5 = model.recommendForUserSubset(selectedCustomers, 5)\n",
    "\n",
    "top5.show(truncate=False)"
   ]
  },
  {
   "cell_type": "code",
   "execution_count": 45,
   "id": "d2ecbfe7",
   "metadata": {},
   "outputs": [
    {
     "name": "stdout",
     "output_type": "stream",
     "text": [
      "+------------------------+----------------------------------------------------------------------------------------------+\n",
      "|customer_unique_id_index|recommendations                                                                               |\n",
      "+------------------------+----------------------------------------------------------------------------------------------+\n",
      "|18226                   |[{0, 4.9282436}, {4765, 1.692111}, {11393, 1.4246727}, {24792, 1.4176062}, {23773, 1.4134758}]|\n",
      "+------------------------+----------------------------------------------------------------------------------------------+\n",
      "\n"
     ]
    }
   ],
   "source": [
    "customer_ids = ['b1a1199364a4a7fe27c4486ab63f550d']\n",
    "\n",
    "selectedCustomers = psdf.filter(col('customer_unique_id').isin(customer_ids)).select('customer_unique_id_index')\n",
    "\n",
    "top5 = model.recommendForUserSubset(selectedCustomers, 5)\n",
    "\n",
    "\n",
    "top5.show(truncate=False)"
   ]
  },
  {
   "cell_type": "code",
   "execution_count": 28,
   "id": "7cb44c05",
   "metadata": {
    "scrolled": false
   },
   "outputs": [
    {
     "name": "stdout",
     "output_type": "stream",
     "text": [
      "+------------------------+----------------+----------+\n",
      "|customer_unique_id_index|product_id_index|    rating|\n",
      "+------------------------+----------------+----------+\n",
      "|                       1|           18044|  0.993787|\n",
      "|                       1|           14912| 0.9834209|\n",
      "|                       1|           25905|0.98282266|\n",
      "|                       1|           29768| 0.9331304|\n",
      "|                       1|           18982|0.91034955|\n",
      "|                       2|           18053|0.98274815|\n",
      "|                       2|             998|0.92313194|\n",
      "|                       2|            7461| 0.8511715|\n",
      "|                       2|           16218|0.84914976|\n",
      "|                       2|            2742|0.84914976|\n",
      "|                       0|           15672| 3.9061022|\n",
      "|                       0|           20357|   1.55108|\n",
      "|                       0|           16927| 1.5503998|\n",
      "|                       0|            8119| 1.4228102|\n",
      "|                       0|           10617| 1.4222896|\n",
      "+------------------------+----------------+----------+\n",
      "\n"
     ]
    }
   ],
   "source": [
    "from pyspark.sql.functions import explode, col\n",
    " \n",
    "nrecommendations = top5\\\n",
    "    .withColumn(\"rec_exp\", explode(\"recommendations\"))\\\n",
    "    .select('customer_unique_id_index', col(\"rec_exp.product_id_index\"), col(\"rec_exp.rating\"))\n",
    "\n",
    "nrecommendations.show()"
   ]
  },
  {
   "cell_type": "code",
   "execution_count": 29,
   "id": "569a38f0",
   "metadata": {
    "scrolled": true
   },
   "outputs": [
    {
     "name": "stdout",
     "output_type": "stream",
     "text": [
      "+----------------+--------------------+---------------------+\n",
      "|product_id_index|          product_id|product_category_name|\n",
      "+----------------+--------------------+---------------------+\n",
      "|              23|8b41fbc2b984a1203...|                bebes|\n",
      "|             122|c5fb7fbe39f4e09e0...| sinalizacao_e_seg...|\n",
      "|             340|eca26be90d3b3454d...| fashion_bolsas_e_...|\n",
      "|             398|78bd107dbc2f94f45...| utilidades_domest...|\n",
      "|           20422|5ac3db3f4250d6add...|     moveis_decoracao|\n",
      "|           12750|9a2e821cfc5130513...|            papelaria|\n",
      "|           11346|c10d842a54be20359...|        esporte_lazer|\n",
      "|             981|407eeaa1c0dcd776f...|            telefonia|\n",
      "|            1045|b0069f9a7b1811276...|          eletronicos|\n",
      "|            1125|d5448c89ef7dc8228...|            telefonia|\n",
      "|            1217|8e9ecca4227272ded...|     moveis_decoracao|\n",
      "|            2791|e4aa3f3e320900916...|   ferramentas_jardim|\n",
      "|           19149|4256cf575577f02e6...|     moveis_decoracao|\n",
      "|             354|9a5a361f3cd6c280f...|            papelaria|\n",
      "|             357|f2a1b32f85cad59ff...|         climatizacao|\n",
      "|             495|b2cadfc2d6da74fba...| utilidades_domest...|\n",
      "|             860|aeb4a18fc6dad1f6c...|      cama_mesa_banho|\n",
      "|            2750|c99666957e5d14717...|     moveis_decoracao|\n",
      "|            1158|b520bae2a8c9790ca...|     moveis_decoracao|\n",
      "|            1301|64eb8b21706b8e2c7...|         beleza_saude|\n",
      "+----------------+--------------------+---------------------+\n",
      "only showing top 20 rows\n",
      "\n"
     ]
    }
   ],
   "source": [
    "products_index=psdf.select('product_id_index','product_id', 'product_category_name').distinct()\n",
    "\n",
    "products_index.show()"
   ]
  },
  {
   "cell_type": "code",
   "execution_count": 30,
   "id": "fd4b093e",
   "metadata": {},
   "outputs": [
    {
     "name": "stdout",
     "output_type": "stream",
     "text": [
      "+--------------------+------------------------+\n",
      "|  customer_unique_id|customer_unique_id_index|\n",
      "+--------------------+------------------------+\n",
      "|dbe1f72423b35ecd3...|                    8959|\n",
      "|79444cb5bb16964ee...|                    8844|\n",
      "|50d38ebfa2476b95a...|                   65626|\n",
      "|e257ea35efcc4d9b3...|                   66054|\n",
      "|0d589ee71b3f046e5...|                    8634|\n",
      "|2c14869f96fcf1d76...|                   65063|\n",
      "|6e279371383dfb449...|                   64911|\n",
      "|6e9a6867883241de5...|                     746|\n",
      "|5b9603bf6b5ba1130...|                   65391|\n",
      "|00e336519abc0012c...|                   65284|\n",
      "|5ebf36a0459a0403b...|                   67131|\n",
      "|91b628eaecfe80787...|                   67097|\n",
      "|50208f415cd5914be...|                   67083|\n",
      "|3996afa592a519717...|                   66357|\n",
      "|8cce325d75f2cc112...|                    7179|\n",
      "|4ed82d2c4fb7be1ab...|                   66681|\n",
      "|6836229709adeb622...|                   62931|\n",
      "|24009d47bd49ded6c...|                   63365|\n",
      "|9adcc69e18f2aa2bb...|                   62285|\n",
      "|f3abd4fb935261ae0...|                   62174|\n",
      "+--------------------+------------------------+\n",
      "only showing top 20 rows\n",
      "\n"
     ]
    }
   ],
   "source": [
    "customers_index=psdf.select('customer_unique_id', 'customer_unique_id_index').distinct()\n",
    "\n",
    "customers_index.show()"
   ]
  },
  {
   "cell_type": "code",
   "execution_count": 32,
   "id": "35c9fbfc",
   "metadata": {
    "scrolled": false
   },
   "outputs": [
    {
     "name": "stdout",
     "output_type": "stream",
     "text": [
      "+----------------+------------------------+----------+--------------------------------+--------------------------------+---------------------+\n",
      "|product_id_index|customer_unique_id_index|rating    |customer_unique_id              |product_id                      |product_category_name|\n",
      "+----------------+------------------------+----------+--------------------------------+--------------------------------+---------------------+\n",
      "|18053           |2                       |0.98274815|4546caea018ad8c692964e3382debd19|f6e3aeb40c00aec24ade8333c2ac1b20|consoles_games       |\n",
      "|998             |2                       |0.92313194|4546caea018ad8c692964e3382debd19|35e26f65c3f380cfe6257d771fb067d2|esporte_lazer        |\n",
      "|7461            |2                       |0.8511715 |4546caea018ad8c692964e3382debd19|4066f66e5bd7a5371448d70eeb24b9dc|esporte_lazer        |\n",
      "|2742            |2                       |0.84914976|4546caea018ad8c692964e3382debd19|270516a3f41dc035aa87d220228f844c|beleza_saude         |\n",
      "|16218           |2                       |0.84914976|4546caea018ad8c692964e3382debd19|05b515fdc76e888aada3c6d66c201dff|beleza_saude         |\n",
      "|18044           |1                       |0.993787  |d97b3cfb22b0d6b25ac9ed4e9c2d481b|7094fadc9773845c7d453e51b04289a8|cama_mesa_banho      |\n",
      "|14912           |1                       |0.9834209 |d97b3cfb22b0d6b25ac9ed4e9c2d481b|6a0713a63e990052795623e76cc2995e|cama_mesa_banho      |\n",
      "|25905           |1                       |0.98282266|d97b3cfb22b0d6b25ac9ed4e9c2d481b|e95fb3a80ca294f39de925b6428f3a32|cama_mesa_banho      |\n",
      "|29768           |1                       |0.9331304 |d97b3cfb22b0d6b25ac9ed4e9c2d481b|99444c1e11fc38755dae86f5c67d3d1a|cama_mesa_banho      |\n",
      "|18982           |1                       |0.91034955|d97b3cfb22b0d6b25ac9ed4e9c2d481b|f23459b2e5eda87926f1f1a12dd87723|cama_mesa_banho      |\n",
      "|15672           |0                       |3.9061022 |c8460e4251689ba205045f3ea17884a1|e7cc48a9daff5436f63d3aad9426f28b|telefonia            |\n",
      "|20357           |0                       |1.55108   |c8460e4251689ba205045f3ea17884a1|509db8ad81eb83b247f4b73569bacc76|cama_mesa_banho      |\n",
      "|16927           |0                       |1.5503998 |c8460e4251689ba205045f3ea17884a1|b3b7212d2d34d5d36defa076a827633e|relogios_presentes   |\n",
      "|8119            |0                       |1.4228102 |c8460e4251689ba205045f3ea17884a1|98b22c1129886cbd7fcae69d1c93e442|cama_mesa_banho      |\n",
      "|10617           |0                       |1.4222896 |c8460e4251689ba205045f3ea17884a1|747956d76beb580b5f11373118fd489d|esporte_lazer        |\n",
      "+----------------+------------------------+----------+--------------------------------+--------------------------------+---------------------+\n",
      "\n"
     ]
    }
   ],
   "source": [
    "result1=nrecommendations.join(customers_index, 'customer_unique_id_index', 'inner')\n",
    "result2=result1.join(products_index, 'product_id_index', 'inner').sort('customer_unique_id_index', 'rating', ascending=False)\n",
    "\n",
    "result2.show(truncate=False)"
   ]
  },
  {
   "cell_type": "markdown",
   "id": "d51d8486",
   "metadata": {},
   "source": [
    "# Organizing and Writing All Results to File "
   ]
  },
  {
   "cell_type": "code",
   "execution_count": 33,
   "id": "d0d74d96",
   "metadata": {},
   "outputs": [
    {
     "name": "stdout",
     "output_type": "stream",
     "text": [
      "+----------------+------------------------+----------+---------------------+--------------------+--------------------+---------------------+\n",
      "|product_id_index|customer_unique_id_index|    rating|product_category_name|  customer_unique_id|          product_id|product_category_name|\n",
      "+----------------+------------------------+----------+---------------------+--------------------+--------------------+---------------------+\n",
      "|           28623|                   40132| 1.4922339|     moveis_decoracao|2b12a51b531dea88f...|bbbfa3b8e4c5b134e...|     moveis_decoracao|\n",
      "|           28623|                   51418| 1.4443693|     moveis_decoracao|70dad727e56e0f608...|bbbfa3b8e4c5b134e...|     moveis_decoracao|\n",
      "|           30892|                   11745| 3.9342055|     moveis_decoracao|c5157b7836a33d547...|c7fd13b5e515bffda...|     moveis_decoracao|\n",
      "|            4762|                   36103| 1.1305987| informatica_acess...|8837a3d0a8c6ca2e5...|5450ae624c196f64c...| informatica_acess...|\n",
      "|            3662|                   84745| 1.5745703|           cool_stuff|61cd1aa2c24f2dde3...|b357dcb28df5d5838...|           cool_stuff|\n",
      "|            7093|                   15846|  1.292257| utilidades_domest...|8e44f6463c7ec5833...|81e32892fb8587aa2...| utilidades_domest...|\n",
      "|           15823|                   84272| 1.3986453|           perfumaria|d91311e3288fb34b7...|0bb1142b8037490f2...|           perfumaria|\n",
      "|           10259|                   84272| 3.9204423|           brinquedos|d91311e3288fb34b7...|7d08c685504c66533...|           brinquedos|\n",
      "|           21369|                   27255| 0.6956352| informatica_acess...|0fc4eb5cd5c68c267...|20b4a894367b7b66e...| informatica_acess...|\n",
      "|           16211|                   79662| 1.9590213|   relogios_presentes|67cb5df57124d5e5d...|060f0122cdc8f25db...|   relogios_presentes|\n",
      "|            5891|                   30928| 1.1180471|        esporte_lazer|b595b61be49ee383d...|f172934b37c68afdb...|        esporte_lazer|\n",
      "|           22819|                   78671| 1.4407359|      cama_mesa_banho|b945e00d934235031...|fad3ac91e2ae2e3e0...|      cama_mesa_banho|\n",
      "|            1991|                   14846| 1.5906866| informatica_acess...|104d7176a59fd82e3...|f4d2144023a238288...| informatica_acess...|\n",
      "|           13478|                   41988|  2.819668| industria_comerci...|373e7cdfe49d0aee7...|a668879a637b097eb...| industria_comerci...|\n",
      "|           30549|                   30928|  2.928945|           automotivo|b595b61be49ee383d...|2135fcbb25adcdcbe...|           automotivo|\n",
      "|           18359|                   76584|0.89815754|            telefonia|9cf6dec2e760c65ea...|38f0c2769dec3744c...|            telefonia|\n",
      "|           28531|                   77034| 1.6240277| construcao_ferram...|128cf57442889ee76...|39b146e69c32ffe0a...| construcao_ferram...|\n",
      "|           16487|                   78671|  3.933764|           cool_stuff|b945e00d934235031...|31639956e7fac87ec...|           cool_stuff|\n",
      "|           24322|                   41988| 1.2676243|        esporte_lazer|373e7cdfe49d0aee7...|b59fb744c6f3cd1dc...|        esporte_lazer|\n",
      "|            4967|                   77488|  3.829367|     moveis_decoracao|4c8435d3bb762a8b9...|4858799008e3cd4fc...|     moveis_decoracao|\n",
      "+----------------+------------------------+----------+---------------------+--------------------+--------------------+---------------------+\n",
      "only showing top 20 rows\n",
      "\n"
     ]
    }
   ],
   "source": [
    "# write the results to a csv file\n",
    "allcustomers_results1 =allcustomers_results.join(customers_index, 'customer_unique_id_index', 'inner')\n",
    "allcustomers_results2=allcustomers_results1.join(products_index, 'product_id_index', 'inner')\n",
    "\n",
    "allcustomers_results2.show()\n",
    "allcustomers_results2 = allcustomers_results2.sort('customer_unique_id_index', 'rating', ascending=False)\n",
    "\n",
    "allcustomers_results_pd=allcustomers_results2.toPandas()"
   ]
  },
  {
   "cell_type": "code",
   "execution_count": 34,
   "id": "d67275ca",
   "metadata": {},
   "outputs": [],
   "source": [
    "columns_name=['product_id_index', 'customer_unique_id_index', 'rating',\n",
    "       'product_category_name', 'customer_unique_id', 'product_id', 'product_category_name_02']\n",
    "\n",
    "allcustomers_results_pd.columns=columns_name"
   ]
  },
  {
   "cell_type": "code",
   "execution_count": 35,
   "id": "d68e9aed",
   "metadata": {},
   "outputs": [
    {
     "data": {
      "text/html": [
       "<div>\n",
       "<style scoped>\n",
       "    .dataframe tbody tr th:only-of-type {\n",
       "        vertical-align: middle;\n",
       "    }\n",
       "\n",
       "    .dataframe tbody tr th {\n",
       "        vertical-align: top;\n",
       "    }\n",
       "\n",
       "    .dataframe thead th {\n",
       "        text-align: right;\n",
       "    }\n",
       "</style>\n",
       "<table border=\"1\" class=\"dataframe\">\n",
       "  <thead>\n",
       "    <tr style=\"text-align: right;\">\n",
       "      <th></th>\n",
       "      <th>product_id_index</th>\n",
       "      <th>customer_unique_id_index</th>\n",
       "      <th>rating</th>\n",
       "      <th>product_category_name</th>\n",
       "      <th>customer_unique_id</th>\n",
       "      <th>product_id</th>\n",
       "    </tr>\n",
       "  </thead>\n",
       "  <tbody>\n",
       "    <tr>\n",
       "      <th>0</th>\n",
       "      <td>11534</td>\n",
       "      <td>94719</td>\n",
       "      <td>2.959489</td>\n",
       "      <td>relogios_presentes</td>\n",
       "      <td>96ce6d85f1fd6f113fa1298a27047f2a</td>\n",
       "      <td>7e6c4a0bf900e259f50ba63331fd2785</td>\n",
       "    </tr>\n",
       "    <tr>\n",
       "      <th>1</th>\n",
       "      <td>9671</td>\n",
       "      <td>94719</td>\n",
       "      <td>2.266818</td>\n",
       "      <td>cool_stuff</td>\n",
       "      <td>96ce6d85f1fd6f113fa1298a27047f2a</td>\n",
       "      <td>5272e64de887c95d7a1c9c64886b90f5</td>\n",
       "    </tr>\n",
       "    <tr>\n",
       "      <th>2</th>\n",
       "      <td>24622</td>\n",
       "      <td>94719</td>\n",
       "      <td>0.933505</td>\n",
       "      <td>moveis_decoracao</td>\n",
       "      <td>96ce6d85f1fd6f113fa1298a27047f2a</td>\n",
       "      <td>4fcac8e09620cd87a5e5283e6748da67</td>\n",
       "    </tr>\n",
       "    <tr>\n",
       "      <th>3</th>\n",
       "      <td>7772</td>\n",
       "      <td>94719</td>\n",
       "      <td>0.895307</td>\n",
       "      <td>brinquedos</td>\n",
       "      <td>96ce6d85f1fd6f113fa1298a27047f2a</td>\n",
       "      <td>6b3c88110203820df52c762cd2d2e80f</td>\n",
       "    </tr>\n",
       "    <tr>\n",
       "      <th>4</th>\n",
       "      <td>24385</td>\n",
       "      <td>94719</td>\n",
       "      <td>0.869668</td>\n",
       "      <td>perfumaria</td>\n",
       "      <td>96ce6d85f1fd6f113fa1298a27047f2a</td>\n",
       "      <td>a01c3a8e3ccddf44069c082b1590f19a</td>\n",
       "    </tr>\n",
       "  </tbody>\n",
       "</table>\n",
       "</div>"
      ],
      "text/plain": [
       "   product_id_index  customer_unique_id_index    rating product_category_name  \\\n",
       "0             11534                     94719  2.959489    relogios_presentes   \n",
       "1              9671                     94719  2.266818            cool_stuff   \n",
       "2             24622                     94719  0.933505      moveis_decoracao   \n",
       "3              7772                     94719  0.895307            brinquedos   \n",
       "4             24385                     94719  0.869668            perfumaria   \n",
       "\n",
       "                 customer_unique_id                        product_id  \n",
       "0  96ce6d85f1fd6f113fa1298a27047f2a  7e6c4a0bf900e259f50ba63331fd2785  \n",
       "1  96ce6d85f1fd6f113fa1298a27047f2a  5272e64de887c95d7a1c9c64886b90f5  \n",
       "2  96ce6d85f1fd6f113fa1298a27047f2a  4fcac8e09620cd87a5e5283e6748da67  \n",
       "3  96ce6d85f1fd6f113fa1298a27047f2a  6b3c88110203820df52c762cd2d2e80f  \n",
       "4  96ce6d85f1fd6f113fa1298a27047f2a  a01c3a8e3ccddf44069c082b1590f19a  "
      ]
     },
     "execution_count": 35,
     "metadata": {},
     "output_type": "execute_result"
    }
   ],
   "source": [
    "new_df=allcustomers_results_pd.drop(['product_category_name_02'], axis=1)\n",
    "\n",
    "new_df.head()\n"
   ]
  },
  {
   "cell_type": "code",
   "execution_count": 36,
   "id": "d4dfbcd7",
   "metadata": {},
   "outputs": [],
   "source": [
    "new_df.to_csv('all_customer_top5recommendations.csv', index=False)"
   ]
  },
  {
   "cell_type": "code",
   "execution_count": null,
   "id": "ed8362b7",
   "metadata": {},
   "outputs": [],
   "source": []
  }
 ],
 "metadata": {
  "kernelspec": {
   "display_name": "Python 3 (ipykernel)",
   "language": "python",
   "name": "python3"
  },
  "language_info": {
   "codemirror_mode": {
    "name": "ipython",
    "version": 3
   },
   "file_extension": ".py",
   "mimetype": "text/x-python",
   "name": "python",
   "nbconvert_exporter": "python",
   "pygments_lexer": "ipython3",
   "version": "3.9.13"
  }
 },
 "nbformat": 4,
 "nbformat_minor": 5
}
